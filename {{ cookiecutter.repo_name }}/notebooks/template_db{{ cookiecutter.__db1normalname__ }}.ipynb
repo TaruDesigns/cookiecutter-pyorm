{
 "cells": [
  {
   "cell_type": "code",
   "execution_count": null,
   "metadata": {},
   "outputs": [],
   "source": [
    "import db{{ cookiecutter.__db1normalname__ }}.models\n",
    "from loguru import logger\n",
    "from db{{ cookiecutter.__db1normalname__ }} import urlgenerator as urlgenerator_db{{ cookiecutter.__db1normalname__ }}\n",
    "from sqlalchemy import create_engine\n",
    "from sqlalchemy.orm import sessionmaker\n",
    "\n",
    "\n",
    "engine = create_engine(urlgenerator_db{{ cookiecutter.__db1normalname__ }}())\n",
    "conn = engine.connect() \n",
    "Session = sessionmaker(bind=engine)\n",
    "with Session() as session:\n",
    "    firstitem = session.query(db{{ cookiecutter.__db1normalname__ }}.models.Item).first()\n",
    "    logger.info(firstitem.Id)\n",
    "    logger.info(\"Done\")\n",
    "\n"
   ]
  }
 ],
 "metadata": {
  "language_info": {
   "name": "python"
  }
 },
 "nbformat": 4,
 "nbformat_minor": 2
}
